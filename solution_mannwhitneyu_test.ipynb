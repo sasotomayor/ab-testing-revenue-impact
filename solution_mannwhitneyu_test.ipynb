{
 "cells": [
  {
   "cell_type": "markdown",
   "id": "9fc41fa9",
   "metadata": {
    "papermill": {
     "duration": 0.009064,
     "end_time": "2023-03-23T13:29:10.444028",
     "exception": false,
     "start_time": "2023-03-23T13:29:10.434964",
     "status": "completed"
    },
    "tags": []
   },
   "source": [
    "# Analyzing impact of AB test in revenue\n",
    "We want to detect if there is any significant difference in revenue between both variants: control and variant."
   ]
  },
  {
   "cell_type": "markdown",
   "id": "2bf9546a",
   "metadata": {
    "papermill": {
     "duration": 0.007157,
     "end_time": "2023-03-23T13:29:10.458733",
     "exception": false,
     "start_time": "2023-03-23T13:29:10.451576",
     "status": "completed"
    },
    "tags": []
   },
   "source": [
    "## Import libraries"
   ]
  },
  {
   "cell_type": "code",
   "execution_count": 23,
   "id": "9b7b6b9a",
   "metadata": {
    "execution": {
     "iopub.execute_input": "2023-03-23T13:29:10.475681Z",
     "iopub.status.busy": "2023-03-23T13:29:10.475239Z",
     "iopub.status.idle": "2023-03-23T13:29:11.384471Z",
     "shell.execute_reply": "2023-03-23T13:29:11.383490Z"
    },
    "papermill": {
     "duration": 0.921258,
     "end_time": "2023-03-23T13:29:11.387364",
     "exception": false,
     "start_time": "2023-03-23T13:29:10.466106",
     "status": "completed"
    },
    "tags": []
   },
   "outputs": [],
   "source": [
    "import pandas as pd\n",
    "import numpy as np\n",
    "\n",
    "import matplotlib.pyplot as plt\n",
    "import seaborn as sns\n",
    "\n",
    "from scipy.stats import ttest_ind, mannwhitneyu, chisquare, shapiro, levene, bartlett, median_test\n",
    "from statsmodels.stats.power import TTestIndPower"
   ]
  },
  {
   "cell_type": "markdown",
   "id": "56e038f7",
   "metadata": {
    "papermill": {
     "duration": 0.007101,
     "end_time": "2023-03-23T13:29:11.402363",
     "exception": false,
     "start_time": "2023-03-23T13:29:11.395262",
     "status": "completed"
    },
    "tags": []
   },
   "source": [
    "## Load Data"
   ]
  },
  {
   "cell_type": "code",
   "execution_count": 3,
   "id": "4055e3ae",
   "metadata": {
    "execution": {
     "iopub.execute_input": "2023-03-23T13:29:11.420200Z",
     "iopub.status.busy": "2023-03-23T13:29:11.419046Z",
     "iopub.status.idle": "2023-03-23T13:29:11.465977Z",
     "shell.execute_reply": "2023-03-23T13:29:11.464678Z"
    },
    "papermill": {
     "duration": 0.059314,
     "end_time": "2023-03-23T13:29:11.469200",
     "exception": false,
     "start_time": "2023-03-23T13:29:11.409886",
     "status": "completed"
    },
    "tags": []
   },
   "outputs": [
    {
     "data": {
      "text/html": [
       "<div>\n",
       "<style scoped>\n",
       "    .dataframe tbody tr th:only-of-type {\n",
       "        vertical-align: middle;\n",
       "    }\n",
       "\n",
       "    .dataframe tbody tr th {\n",
       "        vertical-align: top;\n",
       "    }\n",
       "\n",
       "    .dataframe thead th {\n",
       "        text-align: right;\n",
       "    }\n",
       "</style>\n",
       "<table border=\"1\" class=\"dataframe\">\n",
       "  <thead>\n",
       "    <tr style=\"text-align: right;\">\n",
       "      <th></th>\n",
       "      <th>USER_ID</th>\n",
       "      <th>VARIANT_NAME</th>\n",
       "      <th>REVENUE</th>\n",
       "    </tr>\n",
       "  </thead>\n",
       "  <tbody>\n",
       "    <tr>\n",
       "      <th>0</th>\n",
       "      <td>737</td>\n",
       "      <td>variant</td>\n",
       "      <td>0.0</td>\n",
       "    </tr>\n",
       "    <tr>\n",
       "      <th>1</th>\n",
       "      <td>2423</td>\n",
       "      <td>control</td>\n",
       "      <td>0.0</td>\n",
       "    </tr>\n",
       "    <tr>\n",
       "      <th>2</th>\n",
       "      <td>9411</td>\n",
       "      <td>control</td>\n",
       "      <td>0.0</td>\n",
       "    </tr>\n",
       "    <tr>\n",
       "      <th>3</th>\n",
       "      <td>7311</td>\n",
       "      <td>control</td>\n",
       "      <td>0.0</td>\n",
       "    </tr>\n",
       "    <tr>\n",
       "      <th>4</th>\n",
       "      <td>6174</td>\n",
       "      <td>variant</td>\n",
       "      <td>0.0</td>\n",
       "    </tr>\n",
       "  </tbody>\n",
       "</table>\n",
       "</div>"
      ],
      "text/plain": [
       "   USER_ID VARIANT_NAME  REVENUE\n",
       "0      737      variant      0.0\n",
       "1     2423      control      0.0\n",
       "2     9411      control      0.0\n",
       "3     7311      control      0.0\n",
       "4     6174      variant      0.0"
      ]
     },
     "execution_count": 3,
     "metadata": {},
     "output_type": "execute_result"
    }
   ],
   "source": [
    "dataframe = pd.read_csv('./assets/ab_test_results.csv')\n",
    "dataframe.head()"
   ]
  },
  {
   "cell_type": "markdown",
   "id": "047bffaa",
   "metadata": {
    "papermill": {
     "duration": 0.007475,
     "end_time": "2023-03-23T13:29:11.484283",
     "exception": false,
     "start_time": "2023-03-23T13:29:11.476808",
     "status": "completed"
    },
    "tags": []
   },
   "source": [
    "## Data Understanding"
   ]
  },
  {
   "cell_type": "markdown",
   "id": "0697ca0c",
   "metadata": {
    "papermill": {
     "duration": 0.00718,
     "end_time": "2023-03-23T13:29:11.499066",
     "exception": false,
     "start_time": "2023-03-23T13:29:11.491886",
     "status": "completed"
    },
    "tags": []
   },
   "source": [
    "#### Basic exploratory review"
   ]
  },
  {
   "cell_type": "code",
   "execution_count": 4,
   "id": "d926d8bd",
   "metadata": {
    "execution": {
     "iopub.execute_input": "2023-03-23T13:29:11.517837Z",
     "iopub.status.busy": "2023-03-23T13:29:11.516978Z",
     "iopub.status.idle": "2023-03-23T13:29:11.541689Z",
     "shell.execute_reply": "2023-03-23T13:29:11.540083Z"
    },
    "papermill": {
     "duration": 0.038049,
     "end_time": "2023-03-23T13:29:11.544760",
     "exception": false,
     "start_time": "2023-03-23T13:29:11.506711",
     "status": "completed"
    },
    "tags": []
   },
   "outputs": [
    {
     "name": "stdout",
     "output_type": "stream",
     "text": [
      "--------------------------- ROWS & COLUMNS ---------------------------\n",
      "Number of rows: 10000\n",
      "Column Names: USER_ID, VARIANT_NAME, REVENUE\n",
      "---------------------------- COLUMN TYPES ----------------------------\n",
      "USER_ID           int64\n",
      "VARIANT_NAME     object\n",
      "REVENUE         float64\n",
      "dtype: object\n",
      "------------------------------- NULLS --------------------------------\n",
      "USER_ID         0\n",
      "VARIANT_NAME    0\n",
      "REVENUE         0\n",
      "dtype: int64\n",
      "----------------------------- DUPLICATES -----------------------------\n",
      "2067\n"
     ]
    }
   ],
   "source": [
    "print(\" ROWS & COLUMNS \".center(70,'-'))\n",
    "print(\"Number of rows: {}\".format(dataframe.shape[0]))\n",
    "print(\"Column Names: \"+', '.join('{}'.format(col) for col in dataframe.columns.tolist()))\n",
    "print(\" COLUMN TYPES \".center(70,'-'))\n",
    "print(dataframe.dtypes)\n",
    "print(\" NULLS \".center(70,'-'))\n",
    "print(dataframe.isnull().sum())\n",
    "print(\" DUPLICATES \".center(70,'-'))\n",
    "print(dataframe.duplicated().sum())"
   ]
  },
  {
   "cell_type": "markdown",
   "id": "7a729485",
   "metadata": {
    "papermill": {
     "duration": 0.007482,
     "end_time": "2023-03-23T13:29:11.560103",
     "exception": false,
     "start_time": "2023-03-23T13:29:11.552621",
     "status": "completed"
    },
    "tags": []
   },
   "source": [
    "#### Distritbution and values"
   ]
  },
  {
   "cell_type": "code",
   "execution_count": 5,
   "id": "921452ec",
   "metadata": {
    "execution": {
     "iopub.execute_input": "2023-03-23T13:29:11.578012Z",
     "iopub.status.busy": "2023-03-23T13:29:11.577563Z",
     "iopub.status.idle": "2023-03-23T13:29:11.608714Z",
     "shell.execute_reply": "2023-03-23T13:29:11.606932Z"
    },
    "papermill": {
     "duration": 0.043501,
     "end_time": "2023-03-23T13:29:11.611550",
     "exception": false,
     "start_time": "2023-03-23T13:29:11.568049",
     "status": "completed"
    },
    "tags": []
   },
   "outputs": [
    {
     "name": "stdout",
     "output_type": "stream",
     "text": [
      "------------------------ REVENUE DISTRIBUTION ------------------------\n",
      "count    10000.000000\n",
      "mean         0.099447\n",
      "std          2.318529\n",
      "min          0.000000\n",
      "1%           0.000000\n",
      "10%          0.000000\n",
      "25%          0.000000\n",
      "50%          0.000000\n",
      "75%          0.000000\n",
      "90%          0.000000\n",
      "99%          1.660900\n",
      "max        196.010000\n",
      "Name: REVENUE, dtype: float64\n",
      "---------------------------- VARIANT NAME ----------------------------\n",
      "count       10000\n",
      "unique          2\n",
      "top       variant\n",
      "freq         5016\n",
      "Name: VARIANT_NAME, dtype: object\n",
      "------------------------------ USER_ID -------------------------------\n",
      "count     10000\n",
      "unique     6324\n",
      "top        5652\n",
      "freq          6\n",
      "Name: USER_ID, dtype: object\n"
     ]
    }
   ],
   "source": [
    "print(\" REVENUE DISTRIBUTION \".center(70,'-'))\n",
    "print(dataframe[\"REVENUE\"].describe(percentiles=[0.01, 0.1, 0.25, 0.50, 0.75, 0.90, 0.99]).T)\n",
    "print(\" VARIANT NAME \".center(70,'-'))\n",
    "print(dataframe[\"VARIANT_NAME\"].describe())\n",
    "print(\" USER_ID \".center(70,'-'))\n",
    "print(dataframe[\"USER_ID\"].astype(\"string\").describe())"
   ]
  },
  {
   "cell_type": "markdown",
   "id": "db80f6c1",
   "metadata": {
    "papermill": {
     "duration": 0.007576,
     "end_time": "2023-03-23T13:29:11.626924",
     "exception": false,
     "start_time": "2023-03-23T13:29:11.619348",
     "status": "completed"
    },
    "tags": []
   },
   "source": [
    "#### Observations\n",
    "I will keep the duplicates since a user might have made purchases in two different opportunities.  \n",
    "I will cast User ID as string since it is a unique identifier, not a 'number'"
   ]
  },
  {
   "cell_type": "markdown",
   "id": "489dbcdf",
   "metadata": {
    "papermill": {
     "duration": 0.007532,
     "end_time": "2023-03-23T13:29:11.642233",
     "exception": false,
     "start_time": "2023-03-23T13:29:11.634701",
     "status": "completed"
    },
    "tags": []
   },
   "source": [
    "## SRM Analysis"
   ]
  },
  {
   "cell_type": "markdown",
   "id": "21b448dc",
   "metadata": {
    "papermill": {
     "duration": 0.007454,
     "end_time": "2023-03-23T13:29:11.657613",
     "exception": false,
     "start_time": "2023-03-23T13:29:11.650159",
     "status": "completed"
    },
    "tags": []
   },
   "source": [
    "#### Were users exposed to both variants? If yes, how many?"
   ]
  },
  {
   "cell_type": "code",
   "execution_count": 6,
   "id": "f3b1590d",
   "metadata": {
    "execution": {
     "iopub.execute_input": "2023-03-23T13:29:11.675964Z",
     "iopub.status.busy": "2023-03-23T13:29:11.674790Z",
     "iopub.status.idle": "2023-03-23T13:29:11.691237Z",
     "shell.execute_reply": "2023-03-23T13:29:11.689988Z"
    },
    "papermill": {
     "duration": 0.028332,
     "end_time": "2023-03-23T13:29:11.693859",
     "exception": false,
     "start_time": "2023-03-23T13:29:11.665527",
     "status": "completed"
    },
    "tags": []
   },
   "outputs": [
    {
     "data": {
      "text/plain": [
       "1541"
      ]
     },
     "execution_count": 6,
     "metadata": {},
     "output_type": "execute_result"
    }
   ],
   "source": [
    "variants_per_user_df = dataframe.groupby(\"USER_ID\")[\"VARIANT_NAME\"].nunique()\n",
    "variants_per_user_df[variants_per_user_df>1].count()"
   ]
  },
  {
   "cell_type": "markdown",
   "id": "8270888b",
   "metadata": {
    "papermill": {
     "duration": 0.007552,
     "end_time": "2023-03-23T13:29:11.709219",
     "exception": false,
     "start_time": "2023-03-23T13:29:11.701667",
     "status": "completed"
    },
    "tags": []
   },
   "source": [
    "#### Remove user who were exposed to both variants"
   ]
  },
  {
   "cell_type": "code",
   "execution_count": 7,
   "id": "15622aa0",
   "metadata": {
    "execution": {
     "iopub.execute_input": "2023-03-23T13:29:11.728040Z",
     "iopub.status.busy": "2023-03-23T13:29:11.726845Z",
     "iopub.status.idle": "2023-03-23T13:29:11.743365Z",
     "shell.execute_reply": "2023-03-23T13:29:11.741655Z"
    },
    "papermill": {
     "duration": 0.028548,
     "end_time": "2023-03-23T13:29:11.746101",
     "exception": false,
     "start_time": "2023-03-23T13:29:11.717553",
     "status": "completed"
    },
    "tags": []
   },
   "outputs": [
    {
     "name": "stdout",
     "output_type": "stream",
     "text": [
      "True\n"
     ]
    }
   ],
   "source": [
    "both_variants_users = variants_per_user_df[variants_per_user_df>1].index.tolist()\n",
    "clean_df = dataframe[~dataframe[\"USER_ID\"].isin(both_variants_users)].reset_index()\n",
    "\n",
    "## Quality Check\n",
    "print(dataframe[\"USER_ID\"].nunique() == len(both_variants_users) + clean_df[\"USER_ID\"].nunique())"
   ]
  },
  {
   "cell_type": "markdown",
   "id": "e81bb1b1",
   "metadata": {
    "papermill": {
     "duration": 0.008668,
     "end_time": "2023-03-23T13:29:11.762973",
     "exception": false,
     "start_time": "2023-03-23T13:29:11.754305",
     "status": "completed"
    },
    "tags": []
   },
   "source": [
    "#### Observation\n",
    "Having ~25% of users exposed to both variants is a severe bug. We would need to analyze if this error in the assignment is random or not, making the experiment invalid."
   ]
  },
  {
   "cell_type": "markdown",
   "id": "afdeba40",
   "metadata": {
    "papermill": {
     "duration": 0.007688,
     "end_time": "2023-03-23T13:29:11.778955",
     "exception": false,
     "start_time": "2023-03-23T13:29:11.771267",
     "status": "completed"
    },
    "tags": []
   },
   "source": [
    "#### New revenue distribution"
   ]
  },
  {
   "cell_type": "code",
   "execution_count": 8,
   "id": "38cc9804",
   "metadata": {
    "execution": {
     "iopub.execute_input": "2023-03-23T13:29:11.797334Z",
     "iopub.status.busy": "2023-03-23T13:29:11.796915Z",
     "iopub.status.idle": "2023-03-23T13:29:11.808267Z",
     "shell.execute_reply": "2023-03-23T13:29:11.806543Z"
    },
    "papermill": {
     "duration": 0.024034,
     "end_time": "2023-03-23T13:29:11.811147",
     "exception": false,
     "start_time": "2023-03-23T13:29:11.787113",
     "status": "completed"
    },
    "tags": []
   },
   "outputs": [
    {
     "name": "stdout",
     "output_type": "stream",
     "text": [
      "------------------------ REVENUE DISTRIBUTION ------------------------\n",
      "count    6070.000000\n",
      "mean        0.107064\n",
      "std         2.673501\n",
      "min         0.000000\n",
      "1%          0.000000\n",
      "10%         0.000000\n",
      "25%         0.000000\n",
      "50%         0.000000\n",
      "75%         0.000000\n",
      "90%         0.000000\n",
      "99%         2.160000\n",
      "max       196.010000\n",
      "Name: REVENUE, dtype: float64\n"
     ]
    }
   ],
   "source": [
    "print(\" REVENUE DISTRIBUTION \".center(70,'-'))\n",
    "print(clean_df[\"REVENUE\"].describe(percentiles=[0.01, 0.1, 0.25, 0.50, 0.75, 0.90, 0.99]).T)"
   ]
  },
  {
   "cell_type": "markdown",
   "id": "ef251e7b",
   "metadata": {
    "papermill": {
     "duration": 0.007927,
     "end_time": "2023-03-23T13:29:11.827465",
     "exception": false,
     "start_time": "2023-03-23T13:29:11.819538",
     "status": "completed"
    },
    "tags": []
   },
   "source": [
    "#### Chi-square test to compare samples of both variants"
   ]
  },
  {
   "cell_type": "code",
   "execution_count": 9,
   "id": "3dac882d",
   "metadata": {
    "execution": {
     "iopub.execute_input": "2023-03-23T13:29:11.845690Z",
     "iopub.status.busy": "2023-03-23T13:29:11.845250Z",
     "iopub.status.idle": "2023-03-23T13:29:11.859426Z",
     "shell.execute_reply": "2023-03-23T13:29:11.857828Z"
    },
    "papermill": {
     "duration": 0.026475,
     "end_time": "2023-03-23T13:29:11.862079",
     "exception": false,
     "start_time": "2023-03-23T13:29:11.835604",
     "status": "completed"
    },
    "tags": []
   },
   "outputs": [
    {
     "name": "stdout",
     "output_type": "stream",
     "text": [
      "Samples difference: 0.13%\n",
      "Probably no SRM\n"
     ]
    }
   ],
   "source": [
    "control_users = clean_df[clean_df[\"VARIANT_NAME\"] == 'control'][\"USER_ID\"].nunique()\n",
    "variant_users = clean_df[clean_df[\"VARIANT_NAME\"] == 'variant'][\"USER_ID\"].nunique()\n",
    "total_users = control_users + variant_users\n",
    "stat, pvalue = chisquare([control_users, variant_users], f_exp=[total_users/2, total_users/2])\n",
    "print(\"Samples difference: {}%\".format(round(100*(variant_users - control_users)/control_users,2)))\n",
    "if pvalue < 0.01: print(\"Warning, SRM might be present\")\n",
    "else: print(\"Probably no SRM\")"
   ]
  },
  {
   "cell_type": "markdown",
   "id": "a6b144f7",
   "metadata": {
    "papermill": {
     "duration": 0.007766,
     "end_time": "2023-03-23T13:29:11.878622",
     "exception": false,
     "start_time": "2023-03-23T13:29:11.870856",
     "status": "completed"
    },
    "tags": []
   },
   "source": [
    "## Outliers"
   ]
  },
  {
   "cell_type": "code",
   "execution_count": 35,
   "id": "97a6a43a",
   "metadata": {
    "execution": {
     "iopub.execute_input": "2023-03-23T13:29:11.897013Z",
     "iopub.status.busy": "2023-03-23T13:29:11.896594Z",
     "iopub.status.idle": "2023-03-23T13:29:12.230350Z",
     "shell.execute_reply": "2023-03-23T13:29:12.229404Z"
    },
    "papermill": {
     "duration": 0.345937,
     "end_time": "2023-03-23T13:29:12.232779",
     "exception": false,
     "start_time": "2023-03-23T13:29:11.886842",
     "status": "completed"
    },
    "tags": []
   },
   "outputs": [
    {
     "data": {
      "image/png": "[encoded data removed]",
      "text/plain": [
       "<Figure size 1200x400 with 1 Axes>"
      ]
     },
     "metadata": {},
     "output_type": "display_data"
    }
   ],
   "source": [
    "#Sturge’s Rule for number of bins\n",
    "n_bins = 1 + 3.322*np.log(clean_df.groupby([\"VARIANT_NAME\",\"USER_ID\"]).agg({\"REVENUE\":\"sum\"}).count())\n",
    "\n",
    "f = plt.figure(figsize=(12,4))\n",
    "\n",
    "ax = f.add_subplot(111)\n",
    "sns.histplot(clean_df.groupby([\"VARIANT_NAME\",\"USER_ID\"]).agg({\"REVENUE\":\"sum\"}), bins=int(round(n_bins)))\n",
    "\n",
    "plt.xlabel('count')\n",
    "plt.ylabel('revenue')\n",
    "plt.show()"
   ]
  },
  {
   "cell_type": "code",
   "execution_count": 36,
   "id": "4265f8aa",
   "metadata": {
    "execution": {
     "iopub.execute_input": "2023-03-23T13:29:12.252593Z",
     "iopub.status.busy": "2023-03-23T13:29:12.251553Z",
     "iopub.status.idle": "2023-03-23T13:29:12.508373Z",
     "shell.execute_reply": "2023-03-23T13:29:12.507405Z"
    },
    "papermill": {
     "duration": 0.269205,
     "end_time": "2023-03-23T13:29:12.510772",
     "exception": false,
     "start_time": "2023-03-23T13:29:12.241567",
     "status": "completed"
    },
    "tags": []
   },
   "outputs": [
    {
     "data": {
      "image/png": "[encoded data removed]",
      "text/plain": [
       "<Figure size 1200x400 with 1 Axes>"
      ]
     },
     "metadata": {},
     "output_type": "display_data"
    }
   ],
   "source": [
    "unique_revenues = clean_df.groupby([\"VARIANT_NAME\",\"USER_ID\"]).agg({\"REVENUE\":\"sum\"})[\"REVENUE\"].unique()\n",
    "\n",
    "f = plt.figure(figsize=(12,4))\n",
    "\n",
    "ax = f.add_subplot(111)\n",
    "sns.scatterplot(clean_df.groupby([\"VARIANT_NAME\",\"USER_ID\"]).agg({\"REVENUE\":\"sum\"})[\"REVENUE\"].reset_index(), x=\"USER_ID\", y=\"REVENUE\")\n",
    "plt.show()"
   ]
  },
  {
   "attachments": {},
   "cell_type": "markdown",
   "id": "275c9017",
   "metadata": {
    "papermill": {
     "duration": 0.008859,
     "end_time": "2023-03-23T13:29:12.528763",
     "exception": false,
     "start_time": "2023-03-23T13:29:12.519904",
     "status": "completed"
    },
    "tags": []
   },
   "source": [
    "#### I'll remove revenues above 20"
   ]
  },
  {
   "cell_type": "code",
   "execution_count": 37,
   "id": "b3918dc3",
   "metadata": {
    "execution": {
     "iopub.execute_input": "2023-03-23T13:29:12.549407Z",
     "iopub.status.busy": "2023-03-23T13:29:12.548181Z",
     "iopub.status.idle": "2023-03-23T13:29:12.754873Z",
     "shell.execute_reply": "2023-03-23T13:29:12.753508Z"
    },
    "papermill": {
     "duration": 0.221229,
     "end_time": "2023-03-23T13:29:12.758944",
     "exception": false,
     "start_time": "2023-03-23T13:29:12.537715",
     "status": "completed"
    },
    "tags": []
   },
   "outputs": [
    {
     "data": {
      "image/png": "[encoded data removed]",
      "text/plain": [
       "<Figure size 1200x400 with 1 Axes>"
      ]
     },
     "metadata": {},
     "output_type": "display_data"
    }
   ],
   "source": [
    "clean_df[\"LOG_REVENUE\"] = np.log(clean_df[\"REVENUE\"] + 0.1)\n",
    "\n",
    "f = plt.figure(figsize=(12,4))\n",
    "\n",
    "ax = f.add_subplot(111)\n",
    "sns.boxplot(clean_df[\"LOG_REVENUE\"])\n",
    "plt.show()"
   ]
  },
  {
   "cell_type": "code",
   "execution_count": 13,
   "id": "ad3db70f",
   "metadata": {
    "execution": {
     "iopub.execute_input": "2023-03-23T13:29:12.781486Z",
     "iopub.status.busy": "2023-03-23T13:29:12.780337Z",
     "iopub.status.idle": "2023-03-23T13:29:12.787146Z",
     "shell.execute_reply": "2023-03-23T13:29:12.786225Z"
    },
    "papermill": {
     "duration": 0.019871,
     "end_time": "2023-03-23T13:29:12.789462",
     "exception": false,
     "start_time": "2023-03-23T13:29:12.769591",
     "status": "completed"
    },
    "tags": []
   },
   "outputs": [],
   "source": [
    "clean_df = clean_df[clean_df[\"REVENUE\"] < 20]"
   ]
  },
  {
   "cell_type": "markdown",
   "id": "3c7d08cf",
   "metadata": {
    "papermill": {
     "duration": 0.009107,
     "end_time": "2023-03-23T13:29:12.808219",
     "exception": false,
     "start_time": "2023-03-23T13:29:12.799112",
     "status": "completed"
    },
    "tags": []
   },
   "source": [
    "## Aggregate revenue vector per randomization unit"
   ]
  },
  {
   "cell_type": "code",
   "execution_count": 14,
   "id": "90ddd9e9",
   "metadata": {
    "execution": {
     "iopub.execute_input": "2023-03-23T13:29:12.829694Z",
     "iopub.status.busy": "2023-03-23T13:29:12.828782Z",
     "iopub.status.idle": "2023-03-23T13:29:12.847543Z",
     "shell.execute_reply": "2023-03-23T13:29:12.846217Z"
    },
    "papermill": {
     "duration": 0.032564,
     "end_time": "2023-03-23T13:29:12.850232",
     "exception": false,
     "start_time": "2023-03-23T13:29:12.817668",
     "status": "completed"
    },
    "tags": []
   },
   "outputs": [],
   "source": [
    "revenue_per_user = clean_df.groupby([\"VARIANT_NAME\",\"USER_ID\"]).agg({\"REVENUE\":\"sum\"}).reset_index()\n",
    "revenue_per_control_user = revenue_per_user[revenue_per_user[\"VARIANT_NAME\"] == 'control'][\"REVENUE\"]\n",
    "revenue_per_variant_user = revenue_per_user[revenue_per_user[\"VARIANT_NAME\"] == 'variant'][\"REVENUE\"]"
   ]
  },
  {
   "cell_type": "markdown",
   "id": "12e72b00",
   "metadata": {
    "papermill": {
     "duration": 0.009193,
     "end_time": "2023-03-23T13:29:12.868928",
     "exception": false,
     "start_time": "2023-03-23T13:29:12.859735",
     "status": "completed"
    },
    "tags": []
   },
   "source": [
    "## Power Analysis"
   ]
  },
  {
   "cell_type": "code",
   "execution_count": 94,
   "id": "a7d388b4",
   "metadata": {
    "execution": {
     "iopub.execute_input": "2023-03-23T13:29:12.890455Z",
     "iopub.status.busy": "2023-03-23T13:29:12.889323Z",
     "iopub.status.idle": "2023-03-23T13:29:12.911859Z",
     "shell.execute_reply": "2023-03-23T13:29:12.910499Z"
    },
    "papermill": {
     "duration": 0.035972,
     "end_time": "2023-03-23T13:29:12.914304",
     "exception": false,
     "start_time": "2023-03-23T13:29:12.878332",
     "status": "completed"
    },
    "tags": []
   },
   "outputs": [
    {
     "name": "stdout",
     "output_type": "stream",
     "text": [
      "The sample size needed for each group to detect an effect size of 1% is 156978\n",
      "The sample size needed for each group to detect an effect size of 10% is 1571\n"
     ]
    }
   ],
   "source": [
    "power_analysis = TTestIndPower()\n",
    "\n",
    "sample_size_1 = power_analysis.solve_power(effect_size = 0.01, alpha = 0.05, power = 0.8, alternative = 'two-sided')\n",
    "sample_size_10 = power_analysis.solve_power(effect_size = 0.1, alpha = 0.05, power = 0.8, alternative = 'two-sided')\n",
    "\n",
    "print(\"The sample size needed for each group to detect an effect size of 1% is {}\".format(round(sample_size_1)))\n",
    "print(\"The sample size needed for each group to detect an effect size of 10% is {}\".format(round(sample_size_10)))"
   ]
  },
  {
   "cell_type": "code",
   "execution_count": 16,
   "id": "7fb33a30",
   "metadata": {
    "execution": {
     "iopub.execute_input": "2023-03-23T13:29:12.935513Z",
     "iopub.status.busy": "2023-03-23T13:29:12.935017Z",
     "iopub.status.idle": "2023-03-23T13:29:12.947472Z",
     "shell.execute_reply": "2023-03-23T13:29:12.945650Z"
    },
    "papermill": {
     "duration": 0.02649,
     "end_time": "2023-03-23T13:29:12.950407",
     "exception": false,
     "start_time": "2023-03-23T13:29:12.923917",
     "status": "completed"
    },
    "tags": []
   },
   "outputs": [
    {
     "name": "stdout",
     "output_type": "stream",
     "text": [
      "Users per variant to detect a 1.0% effect: 16371605\n",
      "Total users to detect a 1.0% effect: 32743211\n"
     ]
    }
   ],
   "source": [
    "# Another option\n",
    "# Van Belle (2002) formula\n",
    "revenue_per_control_user = revenue_per_user[revenue_per_user[\"VARIANT_NAME\"] == 'control'][\"REVENUE\"]\n",
    "count_control = int(revenue_per_control_user.count())\n",
    "mean_control = float(revenue_per_control_user.mean())\n",
    "std_control = float(revenue_per_control_user.std())\n",
    "mde = 0.01\n",
    "\n",
    "print('Users per variant to detect a {}% effect: {}'.format(100*mde, round(16*(std_control)**2/(mde*mean_control)**2)))\n",
    "print('Total users to detect a {}% effect: {}'.format(100*mde, round(2*16*(std_control)**2/(mde*mean_control)**2)))"
   ]
  },
  {
   "cell_type": "code",
   "execution_count": 17,
   "id": "272f5352",
   "metadata": {
    "execution": {
     "iopub.execute_input": "2023-03-23T13:29:12.971966Z",
     "iopub.status.busy": "2023-03-23T13:29:12.971160Z",
     "iopub.status.idle": "2023-03-23T13:29:12.978807Z",
     "shell.execute_reply": "2023-03-23T13:29:12.977458Z"
    },
    "papermill": {
     "duration": 0.021687,
     "end_time": "2023-03-23T13:29:12.981591",
     "exception": false,
     "start_time": "2023-03-23T13:29:12.959904",
     "status": "completed"
    },
    "tags": []
   },
   "outputs": [
    {
     "name": "stdout",
     "output_type": "stream",
     "text": [
      "Users per variant to detect a 1.0% effect: 11423\n",
      "Total users to detect a 1.0% effect: 22846\n"
     ]
    }
   ],
   "source": [
    "# More conservative approach\n",
    "# Wheeler formula (1974)\n",
    "print('Users per variant to detect a {}% effect: {}'.format(100*mde, round((4*2*std_control/mde*mean_control)**2)))\n",
    "print('Total users to detect a {}% effect: {}'.format(100*mde, round(2*(4*2*std_control/mde*mean_control)**2)))"
   ]
  },
  {
   "cell_type": "markdown",
   "id": "31c74911",
   "metadata": {
    "papermill": {
     "duration": 0.009157,
     "end_time": "2023-03-23T13:29:13.000416",
     "exception": false,
     "start_time": "2023-03-23T13:29:12.991259",
     "status": "completed"
    },
    "tags": []
   },
   "source": [
    "## P Value"
   ]
  },
  {
   "cell_type": "code",
   "execution_count": 18,
   "id": "be6c61cc",
   "metadata": {
    "execution": {
     "iopub.execute_input": "2023-03-23T13:29:13.021829Z",
     "iopub.status.busy": "2023-03-23T13:29:13.021399Z",
     "iopub.status.idle": "2023-03-23T13:29:13.035516Z",
     "shell.execute_reply": "2023-03-23T13:29:13.033826Z"
    },
    "papermill": {
     "duration": 0.027923,
     "end_time": "2023-03-23T13:29:13.037934",
     "exception": false,
     "start_time": "2023-03-23T13:29:13.010011",
     "status": "completed"
    },
    "tags": []
   },
   "outputs": [
    {
     "name": "stdout",
     "output_type": "stream",
     "text": [
      "With a pvalue of 0.25, there is not enough evidence to reject the null hypothesis. Can't tell if the control and variant means are different.\n"
     ]
    }
   ],
   "source": [
    "#Check for Normality\n",
    "norm_control = shapiro(revenue_per_control_user)[1]\n",
    "norm_variant = shapiro(revenue_per_variant_user)[1]\n",
    "\n",
    "if (norm_control > 0.05) & (norm_variant > 0.05):\n",
    "    \n",
    "    #Check homogeneity: bartlett for non-normal distributions\n",
    "    homogeneity = bartlett(revenue_per_control_user, revenue_per_variant_user)\n",
    "    \n",
    "    if homogeneity < 0.05:\n",
    "        #Normal but different variances: Welch's t-test\n",
    "        p_value = ttest_ind(revenue_per_control_user, revenue_per_variant_user, equal_var=False, alternative='two-sided')[1]\n",
    "    else:\n",
    "        #Normal but same variance\n",
    "        p_value = ttest_ind(revenue_per_control_user, revenue_per_variant_user, equal_var=True, alternative='two-sided')[1]\n",
    "else:\n",
    "    # Non normal distribution\n",
    "    p_value = mannwhitneyu(revenue_per_control_user, revenue_per_variant_user, alternative='two-sided')[1]\n",
    "\n",
    "if p_value < 0.05: print(\"With a pvalue of {}, there is enough evidence to reject the null hypothesis. Control and variant means are different.\".format(round(p_value, 2)))\n",
    "else: print(\"With a pvalue of {}, there is not enough evidence to reject the null hypothesis. Can't tell if the control and variant means are different.\".format(round(p_value, 2)))"
   ]
  },
  {
   "cell_type": "code",
   "execution_count": 58,
   "id": "0f5a2659",
   "metadata": {},
   "outputs": [
    {
     "name": "stdout",
     "output_type": "stream",
     "text": [
      "With a pvalue of 0.3, there is not enough evidence to reject the null hypothesis. Can't tell if the control and variant medians are different.\n"
     ]
    }
   ],
   "source": [
    "p_value_median = median_test(revenue_per_control_user, revenue_per_variant_user).pvalue\n",
    "if p_value_median < 0.05: print(\"With a pvalue of {}, there is enough evidence to reject the null hypothesis. Control and variant medians are different.\".format(round(p_value_median, 2)))\n",
    "else: print(\"With a pvalue of {}, there is not enough evidence to reject the null hypothesis. Can't tell if the control and variant medians are different.\".format(round(p_value_median, 2)))"
   ]
  },
  {
   "cell_type": "code",
   "execution_count": 91,
   "id": "3f52b3df",
   "metadata": {},
   "outputs": [
    {
     "name": "stdout",
     "output_type": "stream",
     "text": [
      "Point estimate of difference between means: -0.04\n",
      "95% confidence interval for the difference between means: (-0.094, 0.015)  this is base on 100 repetitions\n",
      "Point estimate of difference between means: 0.0\n",
      "95% confidence interval for the difference between means: (0.0, 0.0)  this is base on 100 repetitions\n"
     ]
    },
    {
     "data": {
      "text/html": [
       "<div>\n",
       "<style scoped>\n",
       "    .dataframe tbody tr th:only-of-type {\n",
       "        vertical-align: middle;\n",
       "    }\n",
       "\n",
       "    .dataframe tbody tr th {\n",
       "        vertical-align: top;\n",
       "    }\n",
       "\n",
       "    .dataframe thead th {\n",
       "        text-align: right;\n",
       "    }\n",
       "</style>\n",
       "<table border=\"1\" class=\"dataframe\">\n",
       "  <thead>\n",
       "    <tr style=\"text-align: right;\">\n",
       "      <th></th>\n",
       "      <th>metric</th>\n",
       "      <th>lift</th>\n",
       "      <th>lower_ci</th>\n",
       "      <th>upper_ci</th>\n",
       "    </tr>\n",
       "  </thead>\n",
       "  <tbody>\n",
       "    <tr>\n",
       "      <th>0</th>\n",
       "      <td>mean</td>\n",
       "      <td>-0.039987</td>\n",
       "      <td>-0.093793</td>\n",
       "      <td>0.014563</td>\n",
       "    </tr>\n",
       "    <tr>\n",
       "      <th>1</th>\n",
       "      <td>median</td>\n",
       "      <td>0.000000</td>\n",
       "      <td>0.000000</td>\n",
       "      <td>0.000000</td>\n",
       "    </tr>\n",
       "  </tbody>\n",
       "</table>\n",
       "</div>"
      ],
      "text/plain": [
       "   metric      lift  lower_ci  upper_ci\n",
       "0    mean -0.039987 -0.093793  0.014563\n",
       "1  median  0.000000  0.000000  0.000000"
      ]
     },
     "execution_count": 91,
     "metadata": {},
     "output_type": "execute_result"
    }
   ],
   "source": [
    "df = revenue_per_user[[\"REVENUE\", \"VARIANT_NAME\"]]\n",
    "bootstrap_sample_size = len(df) \n",
    "\n",
    "mean_diffs = []\n",
    "median_diffs = []\n",
    "for i in range(100):\n",
    "    bootstrap_sample = df.sample(n = bootstrap_sample_size, replace = True)\n",
    "    mean_diff = bootstrap_sample[bootstrap_sample[\"VARIANT_NAME\"] == 'variant'].mean(numeric_only=True) - bootstrap_sample[bootstrap_sample[\"VARIANT_NAME\"] == 'control'].mean(numeric_only=True)\n",
    "    median_diff = bootstrap_sample[bootstrap_sample[\"VARIANT_NAME\"] == 'variant'].median(numeric_only=True) - bootstrap_sample[bootstrap_sample[\"VARIANT_NAME\"] == 'control'].median(numeric_only=True)\n",
    "    mean_diffs.append(mean_diff)\n",
    "    median_diffs.append(median_diff)\n",
    "\n",
    "# Mean confidence interval for alpha=0.05\n",
    "lower_ci_mean = np.percentile(mean_diffs, 2.5)\n",
    "upper_ci_mean = np.percentile(mean_diffs, 97.5)\n",
    "\n",
    "# Median confidence interval for alpha=0.05\n",
    "lower_ci_median = np.percentile(median_diffs, 2.5)\n",
    "upper_ci_median = np.percentile(median_diffs, 97.5)\n",
    "\n",
    "# Mean Point estimate\n",
    "point_est_mean = df[df[\"VARIANT_NAME\"] == 'variant'].mean(numeric_only=True) - df[df[\"VARIANT_NAME\"] == 'control'].mean(numeric_only=True)\n",
    "print('Point estimate of difference between means:', round(float(point_est_mean), 3))\n",
    "print('95% confidence interval for the difference between means:', (round(lower_ci_mean,3), round(upper_ci_mean,3)),' this is base on 100 repetitions')\n",
    "\n",
    "# Median Point estimate\n",
    "point_est_median = df[df[\"VARIANT_NAME\"] == 'variant'].median(numeric_only=True) - df[df[\"VARIANT_NAME\"] == 'control'].median(numeric_only=True)\n",
    "print('Point estimate of difference between means:', round(float(point_est_median), 3))\n",
    "print('95% confidence interval for the difference between means:', (round(lower_ci_median,3), round(upper_ci_median,3)),' this is base on 100 repetitions')\n",
    "\n",
    "columns = ['metric', 'lift', 'lower_ci', 'upper_ci']\n",
    "output_df = pd.DataFrame(data=[['mean', float(point_est_mean), lower_ci_mean, upper_ci_mean], ['median', float(point_est_median), lower_ci_median, upper_ci_median]], columns=columns)\n",
    "output_df"
   ]
  },
  {
   "cell_type": "code",
   "execution_count": 83,
   "id": "74ba21bd",
   "metadata": {},
   "outputs": [
    {
     "data": {
      "text/plain": [
       "<ErrorbarContainer object of 3 artists>"
      ]
     },
     "execution_count": 83,
     "metadata": {},
     "output_type": "execute_result"
    },
    {
     "data": {
      "image/png": "[encoded data removed]",
      "text/plain": [
       "<Figure size 600x400 with 1 Axes>"
      ]
     },
     "metadata": {},
     "output_type": "display_data"
    }
   ],
   "source": [
    "f = plt.figure(figsize=(6,4))\n",
    "\n",
    "ax = f.add_subplot(111)\n",
    "sns.barplot(data = output_df, x= \"metric\", y=\"lift\", width=0.1)\n",
    "plt.errorbar(x=output_df.index, y=output_df[\"lift\"].values, yerr=(output_df[\"upper_ci\"]-output_df[\"lower_ci\"])/2, \n",
    "             fmt='none', ecolor='black', capsize=10, capthick=1.5)"
   ]
  }
 ],
 "metadata": {
  "kernelspec": {
   "display_name": "micromaster",
   "language": "python",
   "name": "python3"
  },
  "language_info": {
   "codemirror_mode": {
    "name": "ipython",
    "version": 3
   },
   "file_extension": ".py",
   "mimetype": "text/x-python",
   "name": "python",
   "nbconvert_exporter": "python",
   "pygments_lexer": "ipython3",
   "version": "3.10.9"
  },
  "papermill": {
   "default_parameters": {},
   "duration": 13.900993,
   "end_time": "2023-03-23T13:29:13.870390",
   "environment_variables": {},
   "exception": null,
   "input_path": "__notebook__.ipynb",
   "output_path": "__notebook__.ipynb",
   "parameters": {},
   "start_time": "2023-03-23T13:28:59.969397",
   "version": "2.4.0"
  },
  "vscode": {
   "interpreter": {
    "hash": "41c1ed6060de4302bf8285e3240b904a887d0fa0b42632d00a85e1094c2b2e47"
   }
  }
 },
 "nbformat": 4,
 "nbformat_minor": 5
}
